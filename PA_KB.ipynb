{
 "cells": [
  {
   "cell_type": "markdown",
   "id": "f9dbf906-d365-4aba-b87c-1ba544fbb1f7",
   "metadata": {},
   "source": [
    "# PROJECT AKHIR KECERDASAN BUATAN\n",
    "#### Kelompok 7 (A1-21)\n",
    "#### Nama Anggota :\n",
    "#### Rezky Nur Sya'ban         (2109106009) \n",
    "* #### Sebagai yang membuat dan mengatur bagian Evaluasi 🗃️\n",
    "#### Andi Nur Fadilah          (2109106015)\n",
    "* #### Sebagai yang membuat dan mengatur Data Collecting 🗂️, dan Data Visualization and Data Analyst 📊\n",
    "#### Adlina Safa Sephia Putri  (2109106021)\n",
    "* #### Sebagai yang membuat dan mengatur bagian bagian Preprocessing ⌛ dan Modelling 🔍\n",
    "# ------------------------------------------------------------------------------------------\n",
    "# Klasifikasi Jenis Sampah\n",
    "* ## Penjelasan DataSet\n",
    "#### Sumber Dataset Klasifikasi Sampah berasal dari Kaggle. Dataset tersebut berisikan gambar berbagai jenis sampah, namun kami hanya mengambil 3 jenis sampah, yaitu kaca, kertas, dan plastik. Data citra tersebut kemudian dibagi menjadi 3 kelas berdasarkan kondisinya, yaitu 'glass', 'paper', dan 'plastic' ke dalam folder yang terpisah, yakni train, test, dan val dengan perbandingan 7:1:2.\n",
    "\n",
    "* ## Penjelasan Project\n",
    "#### Projek akhir ini membahas mengenai model kecerdasan buatan dalam Pemilahan sampah yang melibatkan pemisahan sampah menurut cara penanganan atau pengolahannya. Penting untuk didaur ulang karena beberapa bahan dapat didaur ulang dan yang lainnya tidak.\n",
    "# ------------------------------------------------------------------------------------------"
   ]
  },
  {
   "cell_type": "markdown",
   "id": "c5b7ccaa-115c-4bc2-9832-3c7b740b889b",
   "metadata": {},
   "source": [
    "# Mengimport Library yang Dibutuhkan"
   ]
  },
  {
   "cell_type": "code",
   "execution_count": null,
   "id": "00e2c2d8-3486-4330-9c90-7588e5792f7e",
   "metadata": {},
   "outputs": [],
   "source": [
    "import splitfolders\n",
    "import pathlib\n",
    "import matplotlib.pyplot as plt\n",
    "import seaborn as sns\n",
    "import pandas as pd\n",
    "import numpy as np\n",
    "import tensorflow as tf\n",
    "from keras import layers\n",
    "from tensorflow.keras.preprocessing import image_dataset_from_directory\n",
    "from keras.preprocessing.image import ImageDataGenerator\n",
    "from keras import Sequential, layers\n",
    "from keras.layers import Conv2D, MaxPooling2D, Flatten, Dense"
   ]
  },
  {
   "cell_type": "markdown",
   "id": "d525eea6-924b-411d-bee0-8954b3bc1850",
   "metadata": {
    "tags": []
   },
   "source": [
    "# Data Collecting"
   ]
  },
  {
   "cell_type": "markdown",
   "id": "30759071-96b3-4711-a808-f261bdf9e467",
   "metadata": {},
   "source": [
    "## A. Data Split\n",
    "##### Memisahkan dataset ke dalam beberapa folder: train, test, dan val dengan porsi 70 : 10 : 20"
   ]
  },
  {
   "cell_type": "code",
   "execution_count": null,
   "id": "30956952-2e92-4868-8d4d-4e9ce4f79e0f",
   "metadata": {},
   "outputs": [],
   "source": [
    "# splitfolders.ratio(\"Garbage classification/Garbage classification/\", output=\"Klasifikasi Sampah\", seed=1337, ratio=(.7, .1, .2), group_prefix=None)"
   ]
  },
  {
   "cell_type": "markdown",
   "id": "190ff5cb-d9fe-42bd-81e9-b5790ed12ddf",
   "metadata": {},
   "source": [
    "## B. Memuat Dataset"
   ]
  },
  {
   "cell_type": "markdown",
   "id": "a3f79646-eb23-4ca2-9b5a-e8cc5dae3884",
   "metadata": {
    "tags": []
   },
   "source": [
    "### 1. Train"
   ]
  },
  {
   "cell_type": "code",
   "execution_count": null,
   "id": "36fdac39-3423-402c-b5c5-6f05350c3c8e",
   "metadata": {},
   "outputs": [],
   "source": [
    "dataset_train = image_dataset_from_directory(\n",
    "    'Klasifikasi Sampah/train/',\n",
    "    labels = 'inferred',\n",
    "    label_mode = 'int',\n",
    "    image_size = (100, 100),\n",
    "    shuffle = True, \n",
    "    seed = 47,\n",
    ")"
   ]
  },
  {
   "cell_type": "markdown",
   "id": "5699bc20-15fc-4191-9307-cd11c90024e9",
   "metadata": {
    "tags": []
   },
   "source": [
    "### 2. Validation"
   ]
  },
  {
   "cell_type": "code",
   "execution_count": null,
   "id": "1ea5889a-6ec1-4635-a5d2-1a8cf33397a3",
   "metadata": {},
   "outputs": [],
   "source": [
    "dataset_val = image_dataset_from_directory(\n",
    "    'Klasifikasi Sampah/val/',\n",
    "    labels = 'inferred',\n",
    "    label_mode = 'int',\n",
    "    image_size = (100, 100),\n",
    "    shuffle = True, \n",
    "    seed = 47,\n",
    ")"
   ]
  },
  {
   "cell_type": "markdown",
   "id": "81b0e41e-41b9-40f2-a021-322f99c95126",
   "metadata": {},
   "source": [
    "### 3. Test"
   ]
  },
  {
   "cell_type": "code",
   "execution_count": null,
   "id": "6b1500bd-8538-41fd-81ec-3a0c105dc5d8",
   "metadata": {},
   "outputs": [],
   "source": [
    "dataset_test = image_dataset_from_directory(\n",
    "    'Klasifikasi Sampah/test/',\n",
    "    labels = 'inferred',\n",
    "    label_mode = 'int',\n",
    "    image_size = (100, 100),\n",
    "    shuffle = True, \n",
    "    seed = 47,\n",
    ")"
   ]
  },
  {
   "cell_type": "markdown",
   "id": "28053e9c-999f-405f-bb2b-d9c4d2ae823b",
   "metadata": {},
   "source": [
    "# Data Preprocessing"
   ]
  },
  {
   "cell_type": "markdown",
   "id": "cd89237b-e67c-4c73-b1e8-ce0490fb96e6",
   "metadata": {
    "tags": []
   },
   "source": [
    "## A. Augmentasi"
   ]
  },
  {
   "cell_type": "code",
   "execution_count": null,
   "id": "2886b874-5458-4eb1-a423-b12d1842798a",
   "metadata": {},
   "outputs": [],
   "source": [
    "train_dir = 'Klasifikasi Sampah/train/'\n",
    "test_dir = 'Klasifikasi Sampah/test/'\n",
    "val_dir = 'Klasifikasi Sampah/val/'"
   ]
  },
  {
   "cell_type": "code",
   "execution_count": null,
   "id": "bf7aaa3a-22d4-4a00-820e-24846dedffac",
   "metadata": {},
   "outputs": [],
   "source": [
    "train_datagen = ImageDataGenerator(\n",
    "    rescale=1./255,\n",
    "    shear_range=0.1,\n",
    "    zoom_range=0.1,\n",
    "    width_shift_range=0.1,\n",
    "    height_shift_range=0.1,\n",
    "    horizontal_flip=True,\n",
    "    vertical_flip=True,\n",
    "    validation_split=0.1\n",
    ")\n",
    "\n",
    "test_datagen = ImageDataGenerator(\n",
    "    rescale=1./255,\n",
    "    validation_split=0.1\n",
    ")"
   ]
  },
  {
   "cell_type": "code",
   "execution_count": null,
   "id": "24f7550e-550d-4ad4-86b3-97ac20391bae",
   "metadata": {},
   "outputs": [],
   "source": [
    "train_generator = train_datagen.flow_from_directory(\n",
    "    train_dir,\n",
    "    target_size=(100, 100),\n",
    "    batch_size=128,\n",
    "    class_mode='categorical',\n",
    "    seed=0\n",
    ")\n",
    "\n",
    "validation_generator = test_datagen.flow_from_directory(\n",
    "    val_dir,\n",
    "    target_size=(100, 100),\n",
    "    batch_size=128,\n",
    "    class_mode='categorical',\n",
    "    seed=0\n",
    ")"
   ]
  },
  {
   "cell_type": "markdown",
   "id": "0b3f08aa-991f-4339-894e-88f0372426cb",
   "metadata": {},
   "source": [
    "## B. Visualisasi Augmentasi"
   ]
  },
  {
   "cell_type": "code",
   "execution_count": null,
   "id": "0729ddb2-1718-42a2-bcb2-4747352bdec0",
   "metadata": {},
   "outputs": [],
   "source": [
    "for _ in range(5):\n",
    "    img, label = train_generator.next()\n",
    "    plt.imshow(img[0])\n",
    "    plt.axis('off')\n",
    "    plt.show()"
   ]
  },
  {
   "cell_type": "markdown",
   "id": "6bb0bcbe-a98b-45ed-a3a6-b7e046dac471",
   "metadata": {},
   "source": [
    "# Data Analyst dan Visualization"
   ]
  },
  {
   "cell_type": "markdown",
   "id": "2134b8e5-a062-4419-aa72-7aec10b2c410",
   "metadata": {},
   "source": [
    "## A. Meta Data"
   ]
  },
  {
   "cell_type": "code",
   "execution_count": null,
   "id": "0652b7fc-4710-444e-8820-0fa5f787d303",
   "metadata": {},
   "outputs": [],
   "source": [
    "nama_dataset = \"Garbage Classification\"\n",
    "sumber = \"https://www.kaggle.com/datasets/asdasdasasdas/garbage-classification\"\n",
    "class_names = dataset_train.class_names"
   ]
  },
  {
   "cell_type": "code",
   "execution_count": null,
   "id": "60e7d3b4-9734-46e5-928d-e877cf80919a",
   "metadata": {},
   "outputs": [],
   "source": [
    "print(\"-------------------------- I N F O R M A S I    D A T A S E T --------------------------\")\n",
    "print(\"Nama Dataset    : \", nama_dataset)\n",
    "print(\"Sumber          : \", sumber)\n",
    "print(\"Kelas           : \", dataset_train.class_names)\n",
    "print(\"Jumlah Kelas    : \", len(dataset_train.class_names))\n",
    "print(\"Ukuran Gambar   : \", (images.shape))\n",
    "print(\"----------------------------------------------------------------------------------------\")"
   ]
  },
  {
   "cell_type": "markdown",
   "id": "c5097324-1db6-4e8e-90f8-0ef601481af5",
   "metadata": {},
   "source": [
    "## B. Visualisasi"
   ]
  },
  {
   "cell_type": "markdown",
   "id": "668246ce-a9e2-4978-ac7e-5af70fdd440a",
   "metadata": {},
   "source": [
    "## 1. Dataset (Preview)"
   ]
  },
  {
   "cell_type": "code",
   "execution_count": null,
   "id": "448a7b96-6120-442a-b3d1-a0228927c1a5",
   "metadata": {},
   "outputs": [],
   "source": [
    "plt.figure(figsize = (10, 10))\n",
    "for images, labels in dataset_train.take(1):\n",
    "    for i in range (25):\n",
    "        ax = plt.subplot(5, 5, i+1)\n",
    "        plt.imshow(images[i].numpy().astype(\"uint8\"))\n",
    "        plt.title(class_names[labels[i]])\n",
    "        plt.axis('off')"
   ]
  },
  {
   "cell_type": "markdown",
   "id": "23c91766",
   "metadata": {},
   "source": [
    "## 2. Train, Validation, Test"
   ]
  },
  {
   "cell_type": "markdown",
   "id": "8edad9f8-e379-4146-8cec-6880b91e4036",
   "metadata": {},
   "source": [
    "* ### Data Training"
   ]
  },
  {
   "cell_type": "code",
   "execution_count": null,
   "id": "ab8dcae9-2b54-4513-a4db-d47164700505",
   "metadata": {},
   "outputs": [],
   "source": [
    "trainTemp = dataset_train.unbatch()\n",
    "labels = []\n",
    "for x, y in trainTemp:\n",
    "    index = y\n",
    "    labels.append(class_names[index])"
   ]
  },
  {
   "cell_type": "code",
   "execution_count": null,
   "id": "de98bb31-7e0d-404c-b8e1-52b9ad0aa87d",
   "metadata": {},
   "outputs": [],
   "source": [
    "plt.figure(figsize = (10,5))\n",
    "\n",
    "sns.countplot(x = labels)\n",
    "plt.title(\"Jumlah Data Training pada Setiap Jenis Sampah\")\n",
    "plt.xlabel(\"Jenis Sampah\")\n",
    "plt.ylabel(\"Jumlah\")\n",
    "plt.show()"
   ]
  },
  {
   "cell_type": "markdown",
   "id": "371e1685-ab37-4084-98e2-101ab45b7a9e",
   "metadata": {},
   "source": [
    "* ### Data Testing"
   ]
  },
  {
   "cell_type": "code",
   "execution_count": null,
   "id": "30e8f375-c569-4681-8327-83b262730254",
   "metadata": {},
   "outputs": [],
   "source": [
    "testTemp = dataset_test.unbatch()\n",
    "labels = []\n",
    "for x, y in testTemp:\n",
    "    index = y\n",
    "    labels.append(class_names[index])"
   ]
  },
  {
   "cell_type": "code",
   "execution_count": null,
   "id": "f9b0278a-ae47-4a42-b164-5b2ea7c43b78",
   "metadata": {},
   "outputs": [],
   "source": [
    "plt.figure(figsize = (10,5))\n",
    "\n",
    "sns.countplot(x = labels)\n",
    "plt.title(\"Jumlah Data Testing pada Setiap Jenis Sampah\")\n",
    "plt.xlabel(\"Jenis Sampah\")\n",
    "plt.ylabel(\"Jumlah\")\n",
    "plt.show()"
   ]
  },
  {
   "cell_type": "markdown",
   "id": "b3b6336f-77b2-41e1-b61e-88765b6b1aa4",
   "metadata": {},
   "source": [
    "* ### Data Validation"
   ]
  },
  {
   "cell_type": "code",
   "execution_count": null,
   "id": "2d4ae61e-cdf5-4781-96a4-fd09db678838",
   "metadata": {},
   "outputs": [],
   "source": [
    "valTemp = dataset_val.unbatch()\n",
    "labels = []\n",
    "for x, y in valTemp:\n",
    "    index = y\n",
    "    labels.append(class_names[index])"
   ]
  },
  {
   "cell_type": "code",
   "execution_count": null,
   "id": "e7552f7e-a6e8-47e1-8b88-efd8811d355b",
   "metadata": {},
   "outputs": [],
   "source": [
    "plt.figure(figsize = (10,5))\n",
    "\n",
    "sns.countplot(x = labels)\n",
    "plt.title(\"Jumlah Data Validation pada Setiap Jenis Sampah\")\n",
    "plt.xlabel(\"Jenis Sampah\")\n",
    "plt.ylabel(\"Jumlah\")\n",
    "plt.show()"
   ]
  },
  {
   "cell_type": "markdown",
   "id": "f7325f9e-26e0-4f0a-a357-6925ad01b613",
   "metadata": {},
   "source": [
    "# Data Modelling"
   ]
  },
  {
   "cell_type": "markdown",
   "id": "c7d35bae",
   "metadata": {},
   "source": [
    "## A. Arsitektur Model"
   ]
  },
  {
   "cell_type": "code",
   "execution_count": null,
   "id": "b84535de-a835-4821-861d-88e1ee197c90",
   "metadata": {},
   "outputs": [],
   "source": [
    "model = Sequential([\n",
    "    Conv2D(filters=32, kernel_size=3, padding='same', activation='relu', input_shape=(100, 100, 3)),\n",
    "    MaxPooling2D(pool_size=2),\n",
    "\n",
    "    Conv2D(filters=64, kernel_size=3, padding='same', activation='relu'),\n",
    "    MaxPooling2D(pool_size=2),\n",
    "    \n",
    "    Conv2D(filters=32, kernel_size=3, padding='same', activation='relu'),\n",
    "    MaxPooling2D(pool_size=2),\n",
    "    \n",
    "    Conv2D(filters=32, kernel_size=3, padding='same', activation='relu'),\n",
    "    MaxPooling2D(pool_size=2),\n",
    "\n",
    "    Flatten(),\n",
    "\n",
    "    Dense(64, activation='relu'),\n",
    "\n",
    "    Dense(3, activation='softmax')\n",
    "])"
   ]
  },
  {
   "cell_type": "markdown",
   "id": "2fa58740",
   "metadata": {},
   "source": [
    "## B. Parameter Layer"
   ]
  },
  {
   "cell_type": "code",
   "execution_count": null,
   "id": "313726ce-48a0-4e89-b58e-b5a5a66415fe",
   "metadata": {},
   "outputs": [],
   "source": [
    "model.summary()"
   ]
  },
  {
   "cell_type": "markdown",
   "id": "f525bf41-b4c0-46a6-8ac2-72ad00f81940",
   "metadata": {},
   "source": [
    "## C. Konfigurasi Model"
   ]
  },
  {
   "cell_type": "markdown",
   "id": "fb186270",
   "metadata": {},
   "source": [
    "### 1. Optimasi Model"
   ]
  },
  {
   "cell_type": "code",
   "execution_count": null,
   "id": "76180eeb-605e-4f5f-bdea-92fd6b5aa420",
   "metadata": {},
   "outputs": [],
   "source": [
    "model.compile(optimizer = 'adam',\n",
    "              loss = 'categorical_crossentropy',\n",
    "              metrics = [\"accuracy\"]\n",
    ")"
   ]
  },
  {
   "cell_type": "markdown",
   "id": "3b96ae19-1cd1-4c05-8b65-976d1bd351c7",
   "metadata": {},
   "source": [
    "### 2. Callback"
   ]
  },
  {
   "cell_type": "code",
   "execution_count": null,
   "id": "711f4b14-09fe-4ebb-bdff-8cc7b1e4758e",
   "metadata": {},
   "outputs": [],
   "source": [
    "class myCallback(tf.keras.callbacks.Callback):\n",
    "    def on_epoch_end(self, epoch, logs = {}):\n",
    "        if(logs.get('loss') < 1e-4):\n",
    "            self.model.stop_training = True\n",
    "            \n",
    "cb = myCallback()"
   ]
  },
  {
   "cell_type": "markdown",
   "id": "5f4ed56b-cbd1-4218-bc55-4af9e1bbe139",
   "metadata": {},
   "source": [
    "## D. Training Model"
   ]
  },
  {
   "cell_type": "code",
   "execution_count": null,
   "id": "264b4ed5-f748-487f-b03e-c5740d4f3ea7",
   "metadata": {},
   "outputs": [],
   "source": [
    "hasil = model.fit_generator(train_generator, validation_data = validation_generator, epochs = 50, verbose = 1, callbacks = cb)"
   ]
  },
  {
   "cell_type": "markdown",
   "id": "89b354bd-121e-42d4-8bf8-90f3e4672609",
   "metadata": {},
   "source": [
    "# Evaluasi"
   ]
  },
  {
   "cell_type": "markdown",
   "id": "cd2d1e0a-0c85-4459-aa63-5a86d9b4c9fc",
   "metadata": {},
   "source": [
    "## A. Evaluasi Test Set"
   ]
  },
  {
   "cell_type": "code",
   "execution_count": null,
   "id": "63230a22-ae23-4a35-8690-772fa7a1850d",
   "metadata": {},
   "outputs": [],
   "source": [
    "score = model.evaluate(test_generator, verbose=1)\n",
    "print(f'Test Loss    : {round(score[0] * 100,2)} %')\n",
    "print(f'Test Akurasi : {round(score[1] * 100,2)} %')"
   ]
  },
  {
   "cell_type": "markdown",
   "id": "559bfdeb",
   "metadata": {},
   "source": [
    "## B. Visualisasi Hasil Training (Train dan Validation)"
   ]
  },
  {
   "cell_type": "markdown",
   "id": "11424412-4572-4fae-89ab-67a841cd999e",
   "metadata": {},
   "source": [
    "### 1. Membandingkan perkembangan epoch Train vs. Validation Accuracy"
   ]
  },
  {
   "cell_type": "code",
   "execution_count": null,
   "id": "fe431834-aa82-4ecf-a901-a3e262c4825a",
   "metadata": {},
   "outputs": [],
   "source": [
    "epoch = [i+1 for i in range(50)]\n",
    "\n",
    "sns.set_theme()\n",
    "\n",
    "plt.figure(figsize = (40,10))\n",
    "plt.suptitle('Train vs. Validation Accuracy')\n",
    "\n",
    "# Subplot Akurasi\n",
    "plt.subplot(1, 2, 1)\n",
    "sns.lineplot(x = epoch, y = hasil.history['accuracy'], label = 'Akurasi Training')\n",
    "sns.lineplot(x = epoch, y = hasil.history['val_accuracy'], label = 'Akurasi Validation')\n",
    "\n",
    "plt.xticks(epoch)\n",
    "plt.xlabel('N_Epoch')\n",
    "plt.ylabel('Accuracy(%)')\n",
    "plt.title('Akurasi Train/Validation')\n",
    "\n",
    "#Subplot Loss\n",
    "plt.subplot(1, 2, 2)\n",
    "sns.lineplot(x = epoch, y = hasil.history['loss'], label = 'Loss Training')\n",
    "sns.lineplot(x = epoch, y = hasil.history['val_loss'], label = 'Loss Validation')\n",
    "\n",
    "plt.xticks(epoch)\n",
    "plt.xlabel('N_Epoch')\n",
    "plt.ylabel('Loss')\n",
    "plt.title('Loss Train/Validation')\n",
    "\n",
    "plt.show()"
   ]
  },
  {
   "cell_type": "markdown",
   "id": "17703d59",
   "metadata": {},
   "source": [
    "## C. Pratinjau Prediksi"
   ]
  },
  {
   "cell_type": "markdown",
   "id": "3669620c-7028-4d4f-856d-4432bb71ee8a",
   "metadata": {},
   "source": [
    "### 1. Pratinjau Hasil Prediksi\""
   ]
  },
  {
   "cell_type": "markdown",
   "id": "9fcd2cc7-9a26-43b2-a5f1-e5e048c88dfb",
   "metadata": {},
   "source": [
    "* ### Visualisasi Gambar yang Diprediksi Benar\""
   ]
  },
  {
   "cell_type": "code",
   "execution_count": null,
   "id": "38a198b6-2a21-4b96-b51e-83191ebcf93b",
   "metadata": {},
   "outputs": [],
   "source": [
    "image, label = next(iter(dataset_test))\n",
    "\n",
    "plt.figure(figsize = (16, 16))\n",
    "for i in range(25):\n",
    "    plt.subplot(5, 5, i+1)\n",
    "    plt.axis('off')\n",
    "    y_pred = np.argmax(model.predict(image[i][None, ...]))\n",
    "    plt.imshow(tf.squeeze(image[i].numpy().astype(\"uint8\")), cmap = 'gray')\n",
    "    plt.title(f'label : {class_names[label[i]]}, predict: {class_names[y_pred]}')"
   ]
  },
  {
   "cell_type": "markdown",
   "id": "2d2a64db-b2c2-49cd-9457-dc4d0ba0aaef",
   "metadata": {},
   "source": [
    "### 2. Pratinjau Kesalahan Prediksi"
   ]
  },
  {
   "cell_type": "markdown",
   "id": "e760faf7-a270-4af7-be35-f756371a0e32",
   "metadata": {},
   "source": [
    "* ### Visualisasi Gambar yang Diprediksi Salah"
   ]
  },
  {
   "cell_type": "code",
   "execution_count": null,
   "id": "070fdf82-c2b8-46ec-a2fa-dfa2c5422c5a",
   "metadata": {},
   "outputs": [],
   "source": [
    "plt.figure(figsize=(15,10))\n",
    "\n",
    "i, j = 0, 0\n",
    "while (j < 12):\n",
    "    TrueLabel = class_names[np.argmax(label[i])]\n",
    "    plt.subplot(3,4,j +1)\n",
    "    plt.axis('off')\n",
    "    y_pred = np.argmax(model.predict(image[i][None,...],verbose=0))\n",
    "\n",
    "    if (TrueLabel != class_names[y_pred]):\n",
    "        plt.imshow(tf.squeeze(image[i].numpy().astype(\"uint8\")),cmap='gray')\n",
    "        plt.title(f'label: {TrueLabel}, predict : {class_names[y_pred]}')\n",
    "        j+=1\n",
    "    i+=1"
   ]
  },
  {
   "cell_type": "markdown",
   "id": "3c81c2f0",
   "metadata": {},
   "source": [
    "## D. Simpan Model"
   ]
  },
  {
   "cell_type": "code",
   "execution_count": null,
   "id": "bf8a97c2",
   "metadata": {},
   "outputs": [],
   "source": [
    "model.save('Hasil_Dataset.h5')"
   ]
  }
 ],
 "metadata": {
  "kernelspec": {
   "display_name": "Python 3.10.7 64-bit",
   "language": "python",
   "name": "python3"
  },
  "language_info": {
   "codemirror_mode": {
    "name": "ipython",
    "version": 3
   },
   "file_extension": ".py",
   "mimetype": "text/x-python",
   "name": "python",
   "nbconvert_exporter": "python",
   "pygments_lexer": "ipython3",
   "version": "3.10.7"
  },
  "vscode": {
   "interpreter": {
    "hash": "27f6fea6f47ae512550f0b8facdbd035a93e1dd89633f7bf2dd00a2502c71d0d"
   }
  }
 },
 "nbformat": 4,
 "nbformat_minor": 5
}
